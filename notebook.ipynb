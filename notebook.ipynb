{
  "cells": [
    {
      "cell_type": "markdown",
      "metadata": {
        "id": "H9wADwK78DCz"
      },
      "source": [
        "# Proyek Analisis Data: Bike Sharing Dataset\n",
        "- **Nama:** Dionesius Diegratia Febrian\n",
        "- **Email:** dionesius.dfebrian@gmail.com\n",
        "- **ID Dicoding:** dionesiusdiegratiaf"
      ]
    },
    {
      "cell_type": "markdown",
      "metadata": {
        "id": "8bdyThUO1dfA"
      },
      "source": [
        "## Data Wrangling"
      ]
    },
    {
      "cell_type": "markdown",
      "metadata": {
        "id": "eE0raob58DC0"
      },
      "source": [
        "## Menentukan Pertanyaan Bisnis"
      ]
    },
    {
      "cell_type": "markdown",
      "source": [],
      "metadata": {
        "id": "P50hsufZ-tGh"
      }
    },
    {
      "cell_type": "code",
      "source": [],
      "metadata": {
        "id": "Xc8gUYonwu6-"
      },
      "execution_count": 5,
      "outputs": []
    },
    {
      "cell_type": "markdown",
      "metadata": {
        "id": "GmQeQ5YF8DC0"
      },
      "source": [
        "- Bagaimana pengaruh cuaca (cerah, hujan, atau berkabut) terhadap rata-rata penyewaan sepeda harian pada tahun?\n",
        "- Pada jam berapa dalam sehari terjadi puncak penyewaan sepeda pada hari kerja dibandingkan akhir pekan selama tahun?"
      ]
    },
    {
      "cell_type": "markdown",
      "metadata": {
        "id": "H-z4QGlO8DC1"
      },
      "source": [
        "## Import Semua Packages/Library yang Digunakan"
      ]
    },
    {
      "cell_type": "code",
      "execution_count": 6,
      "metadata": {
        "id": "FVYwaObI8DC1"
      },
      "outputs": [],
      "source": [
        "import pandas as pd\n",
        "import matplotlib.pyplot as plt\n",
        "import seaborn as sns\n",
        "import numpy as np"
      ]
    },
    {
      "cell_type": "markdown",
      "metadata": {
        "id": "h_Sh51Xy8DC1"
      },
      "source": [
        "## Data Wrangling"
      ]
    },
    {
      "cell_type": "markdown",
      "source": [],
      "metadata": {
        "id": "BcCK3Aoc1m9H"
      }
    },
    {
      "cell_type": "markdown",
      "metadata": {
        "id": "sXU2GBYu8DC1"
      },
      "source": [
        "### Gathering Data"
      ]
    },
    {
      "cell_type": "code",
      "execution_count": 7,
      "metadata": {
        "id": "zjCBk1BI8DC1",
        "outputId": "75d2c70c-b4c0-47fa-f40f-279db8200ad6",
        "colab": {
          "base_uri": "https://localhost:8080/",
          "height": 765
        }
      },
      "outputs": [
        {
          "output_type": "display_data",
          "data": {
            "text/plain": [
              "<IPython.core.display.HTML object>"
            ],
            "text/html": [
              "\n",
              "     <input type=\"file\" id=\"files-24b60da8-badb-448c-9e3e-a3c61e664c10\" name=\"files[]\" multiple disabled\n",
              "        style=\"border:none\" />\n",
              "     <output id=\"result-24b60da8-badb-448c-9e3e-a3c61e664c10\">\n",
              "      Upload widget is only available when the cell has been executed in the\n",
              "      current browser session. Please rerun this cell to enable.\n",
              "      </output>\n",
              "      <script>// Copyright 2017 Google LLC\n",
              "//\n",
              "// Licensed under the Apache License, Version 2.0 (the \"License\");\n",
              "// you may not use this file except in compliance with the License.\n",
              "// You may obtain a copy of the License at\n",
              "//\n",
              "//      http://www.apache.org/licenses/LICENSE-2.0\n",
              "//\n",
              "// Unless required by applicable law or agreed to in writing, software\n",
              "// distributed under the License is distributed on an \"AS IS\" BASIS,\n",
              "// WITHOUT WARRANTIES OR CONDITIONS OF ANY KIND, either express or implied.\n",
              "// See the License for the specific language governing permissions and\n",
              "// limitations under the License.\n",
              "\n",
              "/**\n",
              " * @fileoverview Helpers for google.colab Python module.\n",
              " */\n",
              "(function(scope) {\n",
              "function span(text, styleAttributes = {}) {\n",
              "  const element = document.createElement('span');\n",
              "  element.textContent = text;\n",
              "  for (const key of Object.keys(styleAttributes)) {\n",
              "    element.style[key] = styleAttributes[key];\n",
              "  }\n",
              "  return element;\n",
              "}\n",
              "\n",
              "// Max number of bytes which will be uploaded at a time.\n",
              "const MAX_PAYLOAD_SIZE = 100 * 1024;\n",
              "\n",
              "function _uploadFiles(inputId, outputId) {\n",
              "  const steps = uploadFilesStep(inputId, outputId);\n",
              "  const outputElement = document.getElementById(outputId);\n",
              "  // Cache steps on the outputElement to make it available for the next call\n",
              "  // to uploadFilesContinue from Python.\n",
              "  outputElement.steps = steps;\n",
              "\n",
              "  return _uploadFilesContinue(outputId);\n",
              "}\n",
              "\n",
              "// This is roughly an async generator (not supported in the browser yet),\n",
              "// where there are multiple asynchronous steps and the Python side is going\n",
              "// to poll for completion of each step.\n",
              "// This uses a Promise to block the python side on completion of each step,\n",
              "// then passes the result of the previous step as the input to the next step.\n",
              "function _uploadFilesContinue(outputId) {\n",
              "  const outputElement = document.getElementById(outputId);\n",
              "  const steps = outputElement.steps;\n",
              "\n",
              "  const next = steps.next(outputElement.lastPromiseValue);\n",
              "  return Promise.resolve(next.value.promise).then((value) => {\n",
              "    // Cache the last promise value to make it available to the next\n",
              "    // step of the generator.\n",
              "    outputElement.lastPromiseValue = value;\n",
              "    return next.value.response;\n",
              "  });\n",
              "}\n",
              "\n",
              "/**\n",
              " * Generator function which is called between each async step of the upload\n",
              " * process.\n",
              " * @param {string} inputId Element ID of the input file picker element.\n",
              " * @param {string} outputId Element ID of the output display.\n",
              " * @return {!Iterable<!Object>} Iterable of next steps.\n",
              " */\n",
              "function* uploadFilesStep(inputId, outputId) {\n",
              "  const inputElement = document.getElementById(inputId);\n",
              "  inputElement.disabled = false;\n",
              "\n",
              "  const outputElement = document.getElementById(outputId);\n",
              "  outputElement.innerHTML = '';\n",
              "\n",
              "  const pickedPromise = new Promise((resolve) => {\n",
              "    inputElement.addEventListener('change', (e) => {\n",
              "      resolve(e.target.files);\n",
              "    });\n",
              "  });\n",
              "\n",
              "  const cancel = document.createElement('button');\n",
              "  inputElement.parentElement.appendChild(cancel);\n",
              "  cancel.textContent = 'Cancel upload';\n",
              "  const cancelPromise = new Promise((resolve) => {\n",
              "    cancel.onclick = () => {\n",
              "      resolve(null);\n",
              "    };\n",
              "  });\n",
              "\n",
              "  // Wait for the user to pick the files.\n",
              "  const files = yield {\n",
              "    promise: Promise.race([pickedPromise, cancelPromise]),\n",
              "    response: {\n",
              "      action: 'starting',\n",
              "    }\n",
              "  };\n",
              "\n",
              "  cancel.remove();\n",
              "\n",
              "  // Disable the input element since further picks are not allowed.\n",
              "  inputElement.disabled = true;\n",
              "\n",
              "  if (!files) {\n",
              "    return {\n",
              "      response: {\n",
              "        action: 'complete',\n",
              "      }\n",
              "    };\n",
              "  }\n",
              "\n",
              "  for (const file of files) {\n",
              "    const li = document.createElement('li');\n",
              "    li.append(span(file.name, {fontWeight: 'bold'}));\n",
              "    li.append(span(\n",
              "        `(${file.type || 'n/a'}) - ${file.size} bytes, ` +\n",
              "        `last modified: ${\n",
              "            file.lastModifiedDate ? file.lastModifiedDate.toLocaleDateString() :\n",
              "                                    'n/a'} - `));\n",
              "    const percent = span('0% done');\n",
              "    li.appendChild(percent);\n",
              "\n",
              "    outputElement.appendChild(li);\n",
              "\n",
              "    const fileDataPromise = new Promise((resolve) => {\n",
              "      const reader = new FileReader();\n",
              "      reader.onload = (e) => {\n",
              "        resolve(e.target.result);\n",
              "      };\n",
              "      reader.readAsArrayBuffer(file);\n",
              "    });\n",
              "    // Wait for the data to be ready.\n",
              "    let fileData = yield {\n",
              "      promise: fileDataPromise,\n",
              "      response: {\n",
              "        action: 'continue',\n",
              "      }\n",
              "    };\n",
              "\n",
              "    // Use a chunked sending to avoid message size limits. See b/62115660.\n",
              "    let position = 0;\n",
              "    do {\n",
              "      const length = Math.min(fileData.byteLength - position, MAX_PAYLOAD_SIZE);\n",
              "      const chunk = new Uint8Array(fileData, position, length);\n",
              "      position += length;\n",
              "\n",
              "      const base64 = btoa(String.fromCharCode.apply(null, chunk));\n",
              "      yield {\n",
              "        response: {\n",
              "          action: 'append',\n",
              "          file: file.name,\n",
              "          data: base64,\n",
              "        },\n",
              "      };\n",
              "\n",
              "      let percentDone = fileData.byteLength === 0 ?\n",
              "          100 :\n",
              "          Math.round((position / fileData.byteLength) * 100);\n",
              "      percent.textContent = `${percentDone}% done`;\n",
              "\n",
              "    } while (position < fileData.byteLength);\n",
              "  }\n",
              "\n",
              "  // All done.\n",
              "  yield {\n",
              "    response: {\n",
              "      action: 'complete',\n",
              "    }\n",
              "  };\n",
              "}\n",
              "\n",
              "scope.google = scope.google || {};\n",
              "scope.google.colab = scope.google.colab || {};\n",
              "scope.google.colab._files = {\n",
              "  _uploadFiles,\n",
              "  _uploadFilesContinue,\n",
              "};\n",
              "})(self);\n",
              "</script> "
            ]
          },
          "metadata": {}
        },
        {
          "output_type": "stream",
          "name": "stdout",
          "text": [
            "Saving day.csv to day (1).csv\n",
            "Saving hour.csv to hour (1).csv\n",
            "Data dari day.csv:\n",
            "   instant      dteday  season  yr  mnth  holiday  weekday  workingday  \\\n",
            "0        1  2011-01-01       1   0     1        0        6           0   \n",
            "1        2  2011-01-02       1   0     1        0        0           0   \n",
            "2        3  2011-01-03       1   0     1        0        1           1   \n",
            "3        4  2011-01-04       1   0     1        0        2           1   \n",
            "4        5  2011-01-05       1   0     1        0        3           1   \n",
            "\n",
            "   weathersit      temp     atemp       hum  windspeed  casual  registered  \\\n",
            "0           2  0.344167  0.363625  0.805833   0.160446     331         654   \n",
            "1           2  0.363478  0.353739  0.696087   0.248539     131         670   \n",
            "2           1  0.196364  0.189405  0.437273   0.248309     120        1229   \n",
            "3           1  0.200000  0.212122  0.590435   0.160296     108        1454   \n",
            "4           1  0.226957  0.229270  0.436957   0.186900      82        1518   \n",
            "\n",
            "    cnt  \n",
            "0   985  \n",
            "1   801  \n",
            "2  1349  \n",
            "3  1562  \n",
            "4  1600  \n",
            "\n",
            "Data dari hour.csv:\n",
            "   instant      dteday  season  yr  mnth  hr  holiday  weekday  workingday  \\\n",
            "0        1  2011-01-01       1   0     1   0        0        6           0   \n",
            "1        2  2011-01-01       1   0     1   1        0        6           0   \n",
            "2        3  2011-01-01       1   0     1   2        0        6           0   \n",
            "3        4  2011-01-01       1   0     1   3        0        6           0   \n",
            "4        5  2011-01-01       1   0     1   4        0        6           0   \n",
            "\n",
            "   weathersit  temp   atemp   hum  windspeed  casual  registered  cnt  \n",
            "0           1  0.24  0.2879  0.81        0.0       3          13   16  \n",
            "1           1  0.22  0.2727  0.80        0.0       8          32   40  \n",
            "2           1  0.22  0.2727  0.80        0.0       5          27   32  \n",
            "3           1  0.24  0.2879  0.75        0.0       3          10   13  \n",
            "4           1  0.24  0.2879  0.75        0.0       0           1    1  \n"
          ]
        }
      ],
      "source": [
        "from google.colab import files\n",
        "uploaded = files.upload()\n",
        "\n",
        "df_day = pd.read_csv('day.csv')\n",
        "print(\"Data dari day.csv:\")\n",
        "print(df_day.head())\n",
        "\n",
        "df_hour = pd.read_csv('hour.csv')\n",
        "print(\"\\nData dari hour.csv:\")\n",
        "print(df_hour.head())"
      ]
    },
    {
      "cell_type": "markdown",
      "source": [
        "**Insight:**\n",
        "- Mengunggah dan membaca dataset `day.csv` (data harian) dan `hour.csv` (data per jam) dari komputer menggunakan Google Colab.\n"
      ],
      "metadata": {
        "id": "MMi6xGaDkbCi"
      }
    },
    {
      "cell_type": "markdown",
      "metadata": {
        "id": "FHSiqaZp8DC1"
      },
      "source": [
        "### Assessing Data"
      ]
    },
    {
      "cell_type": "markdown",
      "source": [],
      "metadata": {
        "id": "BLnl84sr1fYI"
      }
    },
    {
      "cell_type": "code",
      "source": [
        "print(\"Missing values di day.csv:\")\n",
        "print(df_day.isnull().sum())\n",
        "print(\"\\nTipe data di day.csv:\")\n",
        "print(df_day.dtypes)\n",
        "print(\"\\nDuplikat di day.csv:\")\n",
        "print(df_day.duplicated().sum())\n",
        "\n",
        "print(\"\\nMissing values di hour.csv:\")\n",
        "print(df_hour.isnull().sum())\n",
        "print(\"\\nTipe data di hour.csv:\")\n",
        "print(df_hour.dtypes)\n",
        "print(\"\\nDuplikat di hour.csv:\")\n",
        "print(df_hour.duplicated().sum())"
      ],
      "metadata": {
        "id": "ax-3tEjc9Cj1",
        "colab": {
          "base_uri": "https://localhost:8080/"
        },
        "outputId": "4f124d5c-e7a1-47a4-8dbb-60fed40da4de"
      },
      "execution_count": 8,
      "outputs": [
        {
          "output_type": "stream",
          "name": "stdout",
          "text": [
            "Missing values di day.csv:\n",
            "instant       0\n",
            "dteday        0\n",
            "season        0\n",
            "yr            0\n",
            "mnth          0\n",
            "holiday       0\n",
            "weekday       0\n",
            "workingday    0\n",
            "weathersit    0\n",
            "temp          0\n",
            "atemp         0\n",
            "hum           0\n",
            "windspeed     0\n",
            "casual        0\n",
            "registered    0\n",
            "cnt           0\n",
            "dtype: int64\n",
            "\n",
            "Tipe data di day.csv:\n",
            "instant         int64\n",
            "dteday         object\n",
            "season          int64\n",
            "yr              int64\n",
            "mnth            int64\n",
            "holiday         int64\n",
            "weekday         int64\n",
            "workingday      int64\n",
            "weathersit      int64\n",
            "temp          float64\n",
            "atemp         float64\n",
            "hum           float64\n",
            "windspeed     float64\n",
            "casual          int64\n",
            "registered      int64\n",
            "cnt             int64\n",
            "dtype: object\n",
            "\n",
            "Duplikat di day.csv:\n",
            "0\n",
            "\n",
            "Missing values di hour.csv:\n",
            "instant       0\n",
            "dteday        0\n",
            "season        0\n",
            "yr            0\n",
            "mnth          0\n",
            "hr            0\n",
            "holiday       0\n",
            "weekday       0\n",
            "workingday    0\n",
            "weathersit    0\n",
            "temp          0\n",
            "atemp         0\n",
            "hum           0\n",
            "windspeed     0\n",
            "casual        0\n",
            "registered    0\n",
            "cnt           0\n",
            "dtype: int64\n",
            "\n",
            "Tipe data di hour.csv:\n",
            "instant         int64\n",
            "dteday         object\n",
            "season          int64\n",
            "yr              int64\n",
            "mnth            int64\n",
            "hr              int64\n",
            "holiday         int64\n",
            "weekday         int64\n",
            "workingday      int64\n",
            "weathersit      int64\n",
            "temp          float64\n",
            "atemp         float64\n",
            "hum           float64\n",
            "windspeed     float64\n",
            "casual          int64\n",
            "registered      int64\n",
            "cnt             int64\n",
            "dtype: object\n",
            "\n",
            "Duplikat di hour.csv:\n",
            "0\n"
          ]
        }
      ]
    },
    {
      "cell_type": "markdown",
      "source": [
        "**Insight:**\n",
        "- Memeriksa kualitas data\n",
        "- Missing values: Mengecek apakah ada data yang hilang.\n",
        "- Tipe data: Memastikan tipe data sesuai untuk analisis.\n",
        "- Duplikat: Mengecek apakah ada baris yang duplikat."
      ],
      "metadata": {
        "id": "7dtxhAPrkhPL"
      }
    },
    {
      "cell_type": "markdown",
      "metadata": {
        "id": "EhN5R4hr8DC1"
      },
      "source": [
        "### Cleaning Data"
      ]
    },
    {
      "cell_type": "code",
      "source": [
        "df_day['dteday'] = pd.to_datetime(df_day['dteday'])\n",
        "df_hour['dteday'] = pd.to_datetime(df_hour['dteday'])\n",
        "\n",
        "\n",
        "df_day['cnt'] = df_day['cnt'].fillna(df_day['cnt'].median())\n",
        "df_hour['cnt'] = df_hour['cnt'].fillna(df_hour['cnt'].median())\n"
      ],
      "metadata": {
        "id": "jVnYpprE9Evz"
      },
      "execution_count": 9,
      "outputs": []
    },
    {
      "cell_type": "markdown",
      "source": [
        "**Insight:**\n",
        "- Data harian (day.csv): Kolom 'dteday' diubah ke format datetime dan missing values di 'cnt' diisi dengan median untuk analisis yang lebih akurat.\n",
        "- Data per jam (hour.csv): Kolom 'dteday' diubah ke format datetime dan missing values di 'cnt' diisi dengan median untuk konsistensi data"
      ],
      "metadata": {
        "id": "Q_5ejIqckiSP"
      }
    },
    {
      "cell_type": "markdown",
      "metadata": {
        "id": "gp-Y6wU38DC1"
      },
      "source": [
        "## Exploratory Data Analysis (EDA)"
      ]
    },
    {
      "cell_type": "markdown",
      "metadata": {
        "id": "MW7WF2kr8DC1"
      },
      "source": [
        "### Explore ..."
      ]
    },
    {
      "cell_type": "code",
      "execution_count": 10,
      "metadata": {
        "id": "e9CQCZjk8DC2",
        "colab": {
          "base_uri": "https://localhost:8080/"
        },
        "outputId": "08a2610c-87a6-4931-865e-64942e90a0b8"
      },
      "outputs": [
        {
          "output_type": "stream",
          "name": "stdout",
          "text": [
            "Dataframe harian (df_day):\n",
            "   instant     dteday  season  yr  mnth  holiday  weekday  workingday  \\\n",
            "0        1 2011-01-01       1   0     1        0        6           0   \n",
            "1        2 2011-01-02       1   0     1        0        0           0   \n",
            "2        3 2011-01-03       1   0     1        0        1           1   \n",
            "3        4 2011-01-04       1   0     1        0        2           1   \n",
            "4        5 2011-01-05       1   0     1        0        3           1   \n",
            "\n",
            "   weathersit      temp     atemp       hum  windspeed  casual  registered  \\\n",
            "0           2  0.344167  0.363625  0.805833   0.160446     331         654   \n",
            "1           2  0.363478  0.353739  0.696087   0.248539     131         670   \n",
            "2           1  0.196364  0.189405  0.437273   0.248309     120        1229   \n",
            "3           1  0.200000  0.212122  0.590435   0.160296     108        1454   \n",
            "4           1  0.226957  0.229270  0.436957   0.186900      82        1518   \n",
            "\n",
            "    cnt  \n",
            "0   985  \n",
            "1   801  \n",
            "2  1349  \n",
            "3  1562  \n",
            "4  1600  \n",
            "\n",
            "Dataframe per jam (df_hour):\n",
            "   instant     dteday  season  yr  mnth  hr  holiday  weekday  workingday  \\\n",
            "0        1 2011-01-01       1   0     1   0        0        6           0   \n",
            "1        2 2011-01-01       1   0     1   1        0        6           0   \n",
            "2        3 2011-01-01       1   0     1   2        0        6           0   \n",
            "3        4 2011-01-01       1   0     1   3        0        6           0   \n",
            "4        5 2011-01-01       1   0     1   4        0        6           0   \n",
            "\n",
            "   weathersit  temp   atemp   hum  windspeed  casual  registered  cnt  \n",
            "0           1  0.24  0.2879  0.81        0.0       3          13   16  \n",
            "1           1  0.22  0.2727  0.80        0.0       8          32   40  \n",
            "2           1  0.22  0.2727  0.80        0.0       5          27   32  \n",
            "3           1  0.24  0.2879  0.75        0.0       3          10   13  \n",
            "4           1  0.24  0.2879  0.75        0.0       0           1    1  \n",
            "\n",
            "Deskripsi statistik df_day:\n",
            "          instant               dteday      season          yr        mnth  \\\n",
            "count  731.000000                  731  731.000000  731.000000  731.000000   \n",
            "mean   366.000000  2012-01-01 00:00:00    2.496580    0.500684    6.519836   \n",
            "min      1.000000  2011-01-01 00:00:00    1.000000    0.000000    1.000000   \n",
            "25%    183.500000  2011-07-02 12:00:00    2.000000    0.000000    4.000000   \n",
            "50%    366.000000  2012-01-01 00:00:00    3.000000    1.000000    7.000000   \n",
            "75%    548.500000  2012-07-01 12:00:00    3.000000    1.000000   10.000000   \n",
            "max    731.000000  2012-12-31 00:00:00    4.000000    1.000000   12.000000   \n",
            "std    211.165812                  NaN    1.110807    0.500342    3.451913   \n",
            "\n",
            "          holiday     weekday  workingday  weathersit        temp       atemp  \\\n",
            "count  731.000000  731.000000  731.000000  731.000000  731.000000  731.000000   \n",
            "mean     0.028728    2.997264    0.683995    1.395349    0.495385    0.474354   \n",
            "min      0.000000    0.000000    0.000000    1.000000    0.059130    0.079070   \n",
            "25%      0.000000    1.000000    0.000000    1.000000    0.337083    0.337842   \n",
            "50%      0.000000    3.000000    1.000000    1.000000    0.498333    0.486733   \n",
            "75%      0.000000    5.000000    1.000000    2.000000    0.655417    0.608602   \n",
            "max      1.000000    6.000000    1.000000    3.000000    0.861667    0.840896   \n",
            "std      0.167155    2.004787    0.465233    0.544894    0.183051    0.162961   \n",
            "\n",
            "              hum   windspeed       casual   registered          cnt  \n",
            "count  731.000000  731.000000   731.000000   731.000000   731.000000  \n",
            "mean     0.627894    0.190486   848.176471  3656.172367  4504.348837  \n",
            "min      0.000000    0.022392     2.000000    20.000000    22.000000  \n",
            "25%      0.520000    0.134950   315.500000  2497.000000  3152.000000  \n",
            "50%      0.626667    0.180975   713.000000  3662.000000  4548.000000  \n",
            "75%      0.730209    0.233214  1096.000000  4776.500000  5956.000000  \n",
            "max      0.972500    0.507463  3410.000000  6946.000000  8714.000000  \n",
            "std      0.142429    0.077498   686.622488  1560.256377  1937.211452  \n",
            "\n",
            "Deskripsi statistik df_hour:\n",
            "          instant                         dteday        season            yr  \\\n",
            "count  17379.0000                          17379  17379.000000  17379.000000   \n",
            "mean    8690.0000  2012-01-02 04:08:34.552045568      2.501640      0.502561   \n",
            "min        1.0000            2011-01-01 00:00:00      1.000000      0.000000   \n",
            "25%     4345.5000            2011-07-04 00:00:00      2.000000      0.000000   \n",
            "50%     8690.0000            2012-01-02 00:00:00      3.000000      1.000000   \n",
            "75%    13034.5000            2012-07-02 00:00:00      3.000000      1.000000   \n",
            "max    17379.0000            2012-12-31 00:00:00      4.000000      1.000000   \n",
            "std     5017.0295                            NaN      1.106918      0.500008   \n",
            "\n",
            "               mnth            hr       holiday       weekday    workingday  \\\n",
            "count  17379.000000  17379.000000  17379.000000  17379.000000  17379.000000   \n",
            "mean       6.537775     11.546752      0.028770      3.003683      0.682721   \n",
            "min        1.000000      0.000000      0.000000      0.000000      0.000000   \n",
            "25%        4.000000      6.000000      0.000000      1.000000      0.000000   \n",
            "50%        7.000000     12.000000      0.000000      3.000000      1.000000   \n",
            "75%       10.000000     18.000000      0.000000      5.000000      1.000000   \n",
            "max       12.000000     23.000000      1.000000      6.000000      1.000000   \n",
            "std        3.438776      6.914405      0.167165      2.005771      0.465431   \n",
            "\n",
            "         weathersit          temp         atemp           hum     windspeed  \\\n",
            "count  17379.000000  17379.000000  17379.000000  17379.000000  17379.000000   \n",
            "mean       1.425283      0.496987      0.475775      0.627229      0.190098   \n",
            "min        1.000000      0.020000      0.000000      0.000000      0.000000   \n",
            "25%        1.000000      0.340000      0.333300      0.480000      0.104500   \n",
            "50%        1.000000      0.500000      0.484800      0.630000      0.194000   \n",
            "75%        2.000000      0.660000      0.621200      0.780000      0.253700   \n",
            "max        4.000000      1.000000      1.000000      1.000000      0.850700   \n",
            "std        0.639357      0.192556      0.171850      0.192930      0.122340   \n",
            "\n",
            "             casual    registered           cnt  \n",
            "count  17379.000000  17379.000000  17379.000000  \n",
            "mean      35.676218    153.786869    189.463088  \n",
            "min        0.000000      0.000000      1.000000  \n",
            "25%        4.000000     34.000000     40.000000  \n",
            "50%       17.000000    115.000000    142.000000  \n",
            "75%       48.000000    220.000000    281.000000  \n",
            "max      367.000000    886.000000    977.000000  \n",
            "std       49.305030    151.357286    181.387599  \n",
            "\n",
            "Rata-rata penyewaan sepeda harian berdasarkan cuaca:\n",
            "   weather_desc          cnt\n",
            "0      Berkabut  4035.862348\n",
            "1         Cerah  4876.786177\n",
            "2  Hujan Ringan  1803.285714\n",
            "\n",
            "Rata-rata penyewaan sepeda per jam berdasarkan tipe hari:\n",
            "    hr day_type         cnt\n",
            "0    0  Weekday   45.986460\n",
            "1    0  Weekend   73.468900\n",
            "2    1  Weekday   28.108738\n",
            "3    1  Weekend   46.354067\n",
            "4    2  Weekday   19.219368\n",
            "5    2  Weekend   31.708134\n",
            "6    3  Weekday   10.404082\n",
            "7    3  Weekend   14.859903\n",
            "8    4  Weekday    6.131313\n",
            "9    4  Weekend    6.896040\n",
            "10   5  Weekday   21.413725\n",
            "11   5  Weekend   16.135266\n",
            "12   6  Weekday   84.426357\n",
            "13   6  Weekend   55.349282\n",
            "14   7  Weekday  237.249035\n",
            "15   7  Weekend  149.645933\n",
            "16   8  Weekday  387.845560\n",
            "17   8  Weekend  287.545455\n",
            "18   9  Weekday  217.934363\n",
            "19   9  Weekend  222.717703\n",
            "20  10  Weekday  158.613900\n",
            "21  10  Weekend  210.980861\n",
            "22  11  Weekday  187.745174\n",
            "23  11  Weekend  258.698565\n",
            "24  12  Weekday  231.761079\n",
            "25  12  Weekend  306.842105\n",
            "26  13  Weekday  229.503846\n",
            "27  13  Weekend  313.765550\n",
            "28  14  Weekday  214.919231\n",
            "29  14  Weekend  305.712919\n",
            "30  15  Weekday  224.496154\n",
            "31  15  Weekend  317.755981\n",
            "32  16  Weekday  297.274472\n",
            "33  16  Weekend  348.650718\n",
            "34  17  Weekday  480.875240\n",
            "35  17  Weekend  413.033493\n",
            "36  18  Weekday  453.107692\n",
            "37  18  Weekend  356.519231\n",
            "38  19  Weekday  327.732692\n",
            "39  19  Weekend  271.000000\n",
            "40  20  Weekday  237.603846\n",
            "41  20  Weekend  197.096154\n",
            "42  21  Weekday  176.065385\n",
            "43  21  Weekend  162.937500\n",
            "44  22  Weekday  126.523077\n",
            "45  22  Weekend  143.365385\n",
            "46  23  Weekday   76.750000\n",
            "47  23  Weekend  115.533654\n",
            "\n",
            "Jam puncak penyewaan pada hari kerja: Jam 17 dengan rata-rata 480.88\n",
            "Jam puncak penyewaan pada akhir pekan: Jam 17 dengan rata-rata 413.03\n"
          ]
        }
      ],
      "source": [
        "\n",
        "print(\"Dataframe harian (df_day):\")\n",
        "print(df_day.head())\n",
        "print(\"\\nDataframe per jam (df_hour):\")\n",
        "print(df_hour.head())\n",
        "\n",
        "# statistik dasar\n",
        "print(\"\\nDeskripsi statistik df_day:\")\n",
        "print(df_day.describe())\n",
        "print(\"\\nDeskripsi statistik df_hour:\")\n",
        "print(df_hour.describe())\n",
        "\n",
        "# Pengaruh Cuaca terhadap Rata-rata Penyewaan Harian\n",
        "weather_map = {1: 'Cerah', 2: 'Berkabut', 3: 'Hujan Ringan', 4: 'Hujan Berat'}\n",
        "df_day['weather_desc'] = df_day['weathersit'].map(weather_map)\n",
        "\n",
        "# agregasi rata-rata penyewaan berdasarkan cuaca\n",
        "weather_group = df_day.groupby('weather_desc')['cnt'].mean().reset_index()\n",
        "print(\"\\nRata-rata penyewaan sepeda harian berdasarkan cuaca:\")\n",
        "print(weather_group)\n",
        "\n",
        "# kolom tipe hari\n",
        "df_hour['day_type'] = df_hour['weekday'].apply(lambda x: 'Weekday' if x < 5 else 'Weekend')\n",
        "\n",
        "# agregasi rata-rata penyewaan per jam berdasarkan tipe hari\n",
        "hourly_group = df_hour.groupby(['hr', 'day_type'])['cnt'].mean().reset_index()\n",
        "print(\"\\nRata-rata penyewaan sepeda per jam berdasarkan tipe hari:\")\n",
        "print(hourly_group)\n",
        "\n",
        "# jam puncak untuk hari kerja dan akhir pekan\n",
        "peak_weekday = hourly_group[hourly_group['day_type'] == 'Weekday'].sort_values('cnt', ascending=False).iloc[0]\n",
        "peak_weekend = hourly_group[hourly_group['day_type'] == 'Weekend'].sort_values('cnt', ascending=False).iloc[0]\n",
        "print(f\"\\nJam puncak penyewaan pada hari kerja: Jam {int(peak_weekday['hr'])} dengan rata-rata {peak_weekday['cnt']:.2f}\")\n",
        "print(f\"Jam puncak penyewaan pada akhir pekan: Jam {int(peak_weekend['hr'])} dengan rata-rata {peak_weekend['cnt']:.2f}\")\n"
      ]
    },
    {
      "cell_type": "markdown",
      "source": [
        "**Insight:**\n",
        "Menganalisis data untuk menjawab pertanyaan bisnis:\n",
        "- Deskripsi statistik memberikan gambaran distribusi data"
      ],
      "metadata": {
        "id": "th_Lzl2Fkj9O"
      }
    },
    {
      "cell_type": "markdown",
      "metadata": {
        "id": "zsyZjqak8DC2"
      },
      "source": [
        "## Visualization & Explanatory Analysis"
      ]
    },
    {
      "cell_type": "markdown",
      "metadata": {
        "id": "HZxOiQ6n8DC2"
      },
      "source": [
        "### Pertanyaan 1:"
      ]
    },
    {
      "cell_type": "code",
      "execution_count": 19,
      "metadata": {
        "id": "1swJUdAD8DC2",
        "colab": {
          "base_uri": "https://localhost:8080/",
          "height": 626
        },
        "outputId": "878c678a-2b66-4f8e-d001-0848bb022727"
      },
      "outputs": [
        {
          "output_type": "display_data",
          "data": {
            "text/plain": [
              "<Figure size 800x600 with 1 Axes>"
            ],
            "image/png": "[encoded data removed]"
          },
          "metadata": {}
        }
      ],
      "source": [
        "plt.figure(figsize=(8, 6))\n",
        "sns.barplot(x='weather_desc', y='cnt', hue='weather_desc', data=weather_group, palette='Blues_d', legend=False)\n",
        "plt.title('Pengaruh Cuaca terhadap Rata-rata Penyewaan Sepeda Harian (2011-2012)')\n",
        "plt.xlabel('Kondisi Cuaca')\n",
        "plt.ylabel('Rata-rata Penyewaan Harian')\n",
        "plt.xticks(rotation=45)\n",
        "plt.show()"
      ]
    },
    {
      "cell_type": "markdown",
      "metadata": {
        "id": "DgHI7CiU8DC2"
      },
      "source": [
        "### Pertanyaan 2:"
      ]
    },
    {
      "cell_type": "code",
      "execution_count": 18,
      "metadata": {
        "id": "Go0lCsvO8DC2",
        "colab": {
          "base_uri": "https://localhost:8080/",
          "height": 564
        },
        "outputId": "c7c933fc-2d8c-441c-9fdd-92ab55ea544b"
      },
      "outputs": [
        {
          "output_type": "display_data",
          "data": {
            "text/plain": [
              "<Figure size 1000x600 with 1 Axes>"
            ],
            "image/png": "[encoded data removed]"
          },
          "metadata": {}
        }
      ],
      "source": [
        "plt.figure(figsize=(10, 6))\n",
        "sns.lineplot(x='hr', y='cnt', hue='day_type', data=hourly_group, marker='o')\n",
        "plt.title('Pola Penyewaan Sepeda per Jam: Hari Kerja vs Akhir Pekan')\n",
        "plt.xlabel('Jam (0-23)')\n",
        "plt.ylabel('Rata-rata Penyewaan')\n",
        "plt.xticks(range(0, 24))\n",
        "plt.legend(title='Tipe Hari')\n",
        "plt.show()"
      ]
    },
    {
      "cell_type": "markdown",
      "source": [
        "**Insight:**\n",
        "Membuat visualisasi untuk menjawab pertanyaan bisnis:\n",
        "- Bar plot untuk Pertanyaan 1: Menampilkan rata-rata penyewaan berdasarkan cuaca dengan warna yang kontras dan label jelas.\n",
        "- Line plot untuk Pertanyaan 2: Menampilkan pola penyewaan per jam dengan garis berbeda untuk hari kerja dan akhir pekan."
      ],
      "metadata": {
        "id": "_0-36BDLklRg"
      }
    },
    {
      "cell_type": "markdown",
      "source": [
        "## Analisis Lanjutan (Opsional)"
      ],
      "metadata": {
        "id": "9y4VUsmcYNZ5"
      }
    },
    {
      "cell_type": "code",
      "source": [],
      "metadata": {
        "id": "iWhnzsJGYUCO"
      },
      "execution_count": 12,
      "outputs": []
    },
    {
      "cell_type": "markdown",
      "source": [],
      "metadata": {
        "id": "lj53qOzp9T6H"
      }
    },
    {
      "cell_type": "markdown",
      "metadata": {
        "id": "_WeHlCeX8DC2"
      },
      "source": [
        "## Conclusion"
      ]
    },
    {
      "cell_type": "markdown",
      "metadata": {
        "id": "ZTcyR48Y8DC2"
      },
      "source": [
        "- Berdasarkan analisis data harian, cuaca cerah atau sedikit berawan (weathersit=1) cenderung memiliki rata-rata penyewaan sepeda harian tertinggi dibandingkan kondisi kabut/berawan (weathersit=2) atau hujan/salju ringan (weathersit=3). Hal ini menunjukkan bahwa kondisi cuaca yang baik mendorong lebih banyak orang untuk menyewa sepeda, sedangkan cuaca buruk mengurangi minat penyewaan.\n",
        "- Pada hari kerja, puncak penyewaan sepeda terjadi pada jam sibuk pagi dan sore, yang kemungkinan besar terkait dengan aktivitas perjalanan kerja. Sebaliknya, pada akhir pekan, pola penyewaan lebih merata sepanjang hari dengan peningkatan di siang hingga sore hari, mencerminkan penggunaan sepeda untuk rekreasi atau aktivitas santai."
      ]
    }
  ],
  "metadata": {
    "kernelspec": {
      "display_name": "Python 3",
      "language": "python",
      "name": "python3"
    },
    "language_info": {
      "name": "python",
      "version": "3.8.0 (tags/v3.8.0:fa919fd, Oct 14 2019, 19:21:23) [MSC v.1916 32 bit (Intel)]"
    },
    "orig_nbformat": 4,
    "vscode": {
      "interpreter": {
        "hash": "972b3bf27e332e87b5379f2791f6ef9dfc79c71018c370b0d7423235e20fe4d7"
      }
    },
    "colab": {
      "provenance": []
    }
  },
  "nbformat": 4,
  "nbformat_minor": 0
}